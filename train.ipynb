{
 "cells": [
  {
   "attachments": {},
   "cell_type": "markdown",
   "metadata": {},
   "source": [
    "## Importing libraries"
   ]
  },
  {
   "cell_type": "code",
   "execution_count": 2,
   "metadata": {},
   "outputs": [],
   "source": [
    "import os\n",
    "import pandas as pd\n",
    "from sklearn import metrics, linear_model \n",
    "import joblib\n",
    "import matplotlib.pyplot as plt"
   ]
  },
  {
   "attachments": {},
   "cell_type": "markdown",
   "metadata": {},
   "source": [
    "## Read dataset from path"
   ]
  },
  {
   "cell_type": "code",
   "execution_count": 3,
   "metadata": {},
   "outputs": [
    {
     "data": {
      "text/html": [
       "<div>\n",
       "<style scoped>\n",
       "    .dataframe tbody tr th:only-of-type {\n",
       "        vertical-align: middle;\n",
       "    }\n",
       "\n",
       "    .dataframe tbody tr th {\n",
       "        vertical-align: top;\n",
       "    }\n",
       "\n",
       "    .dataframe thead th {\n",
       "        text-align: right;\n",
       "    }\n",
       "</style>\n",
       "<table border=\"1\" class=\"dataframe\">\n",
       "  <thead>\n",
       "    <tr style=\"text-align: right;\">\n",
       "      <th></th>\n",
       "      <th>Gender</th>\n",
       "      <th>Age</th>\n",
       "      <th>openness</th>\n",
       "      <th>neuroticism</th>\n",
       "      <th>conscientiousness</th>\n",
       "      <th>agreeableness</th>\n",
       "      <th>extraversion</th>\n",
       "      <th>Personality (Class label)</th>\n",
       "    </tr>\n",
       "  </thead>\n",
       "  <tbody>\n",
       "    <tr>\n",
       "      <th>0</th>\n",
       "      <td>Male</td>\n",
       "      <td>17</td>\n",
       "      <td>7</td>\n",
       "      <td>4</td>\n",
       "      <td>7</td>\n",
       "      <td>3</td>\n",
       "      <td>2</td>\n",
       "      <td>extraverted</td>\n",
       "    </tr>\n",
       "    <tr>\n",
       "      <th>1</th>\n",
       "      <td>Male</td>\n",
       "      <td>19</td>\n",
       "      <td>4</td>\n",
       "      <td>5</td>\n",
       "      <td>4</td>\n",
       "      <td>6</td>\n",
       "      <td>6</td>\n",
       "      <td>serious</td>\n",
       "    </tr>\n",
       "    <tr>\n",
       "      <th>2</th>\n",
       "      <td>Female</td>\n",
       "      <td>18</td>\n",
       "      <td>7</td>\n",
       "      <td>6</td>\n",
       "      <td>4</td>\n",
       "      <td>5</td>\n",
       "      <td>5</td>\n",
       "      <td>dependable</td>\n",
       "    </tr>\n",
       "    <tr>\n",
       "      <th>3</th>\n",
       "      <td>Female</td>\n",
       "      <td>22</td>\n",
       "      <td>5</td>\n",
       "      <td>6</td>\n",
       "      <td>7</td>\n",
       "      <td>4</td>\n",
       "      <td>3</td>\n",
       "      <td>extraverted</td>\n",
       "    </tr>\n",
       "    <tr>\n",
       "      <th>4</th>\n",
       "      <td>Female</td>\n",
       "      <td>19</td>\n",
       "      <td>7</td>\n",
       "      <td>4</td>\n",
       "      <td>6</td>\n",
       "      <td>5</td>\n",
       "      <td>4</td>\n",
       "      <td>lively</td>\n",
       "    </tr>\n",
       "  </tbody>\n",
       "</table>\n",
       "</div>"
      ],
      "text/plain": [
       "   Gender  Age  openness  neuroticism  conscientiousness  agreeableness  \\\n",
       "0    Male   17         7            4                  7              3   \n",
       "1    Male   19         4            5                  4              6   \n",
       "2  Female   18         7            6                  4              5   \n",
       "3  Female   22         5            6                  7              4   \n",
       "4  Female   19         7            4                  6              5   \n",
       "\n",
       "   extraversion Personality (Class label)  \n",
       "0             2               extraverted  \n",
       "1             6                   serious  \n",
       "2             5                dependable  \n",
       "3             3               extraverted  \n",
       "4             4                    lively  "
      ]
     },
     "execution_count": 3,
     "metadata": {},
     "output_type": "execute_result"
    }
   ],
   "source": [
    "dataset_path = os.path.join('dataset/', 'training_dataset.csv')\n",
    "data = pd.read_csv(dataset_path)\n",
    "data_array = data.values\n",
    "\n",
    "# labeling male and female to 0's and 1's\n",
    "for i in range(len(data_array)):\n",
    "    if data_array[i][0] == 'Male':\n",
    "        data_array[i][0] = 0\n",
    "    else:\n",
    "        data_array[i][0] = 1\n",
    "        \n",
    "data_frame = pd.DataFrame(data_array)\n",
    "\n",
    "X = data_frame[[0, 1, 2, 3, 4, 5, 6]].values\n",
    "Y = data_frame[7].values\n",
    "\n",
    "data.head()"
   ]
  },
  {
   "attachments": {},
   "cell_type": "markdown",
   "metadata": {},
   "source": [
    "## Visualization"
   ]
  },
  {
   "cell_type": "code",
   "execution_count": 4,
   "metadata": {},
   "outputs": [
    {
     "name": "stdout",
     "output_type": "stream",
     "text": [
      "328\n",
      "381\n"
     ]
    },
    {
     "data": {
      "image/png": "[encoded data removed]",
      "text/plain": [
       "<Figure size 640x480 with 1 Axes>"
      ]
     },
     "metadata": {},
     "output_type": "display_data"
    }
   ],
   "source": [
    "male_count = 0\n",
    "female_count = 0\n",
    "for i in range(len(data_array)):\n",
    "  if data_array[i][0] == 0:\n",
    "    male_count += 1\n",
    "  else:\n",
    "    female_count += 1\n",
    "\n",
    "print(male_count)\n",
    "print(female_count)\n",
    "df = [['Male', male_count], ['Female', female_count]]\n",
    "df = pd.DataFrame(df, columns=['Gender', 'count'])\n",
    "plt.bar(df['Gender'], df['count'])\n",
    "plt.xlabel(\"Gender\")\n",
    "plt.ylabel(\"Count\")\n",
    "plt.savefig('count_type.png')"
   ]
  },
  {
   "attachments": {},
   "cell_type": "markdown",
   "metadata": {},
   "source": [
    "## Model Architecture and training"
   ]
  },
  {
   "cell_type": "code",
   "execution_count": 48,
   "metadata": {},
   "outputs": [
    {
     "data": {
      "text/html": [
       "<style>#sk-container-id-4 {color: black;background-color: white;}#sk-container-id-4 pre{padding: 0;}#sk-container-id-4 div.sk-toggleable {background-color: white;}#sk-container-id-4 label.sk-toggleable__label {cursor: pointer;display: block;width: 100%;margin-bottom: 0;padding: 0.3em;box-sizing: border-box;text-align: center;}#sk-container-id-4 label.sk-toggleable__label-arrow:before {content: \"▸\";float: left;margin-right: 0.25em;color: #696969;}#sk-container-id-4 label.sk-toggleable__label-arrow:hover:before {color: black;}#sk-container-id-4 div.sk-estimator:hover label.sk-toggleable__label-arrow:before {color: black;}#sk-container-id-4 div.sk-toggleable__content {max-height: 0;max-width: 0;overflow: hidden;text-align: left;background-color: #f0f8ff;}#sk-container-id-4 div.sk-toggleable__content pre {margin: 0.2em;color: black;border-radius: 0.25em;background-color: #f0f8ff;}#sk-container-id-4 input.sk-toggleable__control:checked~div.sk-toggleable__content {max-height: 200px;max-width: 100%;overflow: auto;}#sk-container-id-4 input.sk-toggleable__control:checked~label.sk-toggleable__label-arrow:before {content: \"▾\";}#sk-container-id-4 div.sk-estimator input.sk-toggleable__control:checked~label.sk-toggleable__label {background-color: #d4ebff;}#sk-container-id-4 div.sk-label input.sk-toggleable__control:checked~label.sk-toggleable__label {background-color: #d4ebff;}#sk-container-id-4 input.sk-hidden--visually {border: 0;clip: rect(1px 1px 1px 1px);clip: rect(1px, 1px, 1px, 1px);height: 1px;margin: -1px;overflow: hidden;padding: 0;position: absolute;width: 1px;}#sk-container-id-4 div.sk-estimator {font-family: monospace;background-color: #f0f8ff;border: 1px dotted black;border-radius: 0.25em;box-sizing: border-box;margin-bottom: 0.5em;}#sk-container-id-4 div.sk-estimator:hover {background-color: #d4ebff;}#sk-container-id-4 div.sk-parallel-item::after {content: \"\";width: 100%;border-bottom: 1px solid gray;flex-grow: 1;}#sk-container-id-4 div.sk-label:hover label.sk-toggleable__label {background-color: #d4ebff;}#sk-container-id-4 div.sk-serial::before {content: \"\";position: absolute;border-left: 1px solid gray;box-sizing: border-box;top: 0;bottom: 0;left: 50%;z-index: 0;}#sk-container-id-4 div.sk-serial {display: flex;flex-direction: column;align-items: center;background-color: white;padding-right: 0.2em;padding-left: 0.2em;position: relative;}#sk-container-id-4 div.sk-item {position: relative;z-index: 1;}#sk-container-id-4 div.sk-parallel {display: flex;align-items: stretch;justify-content: center;background-color: white;position: relative;}#sk-container-id-4 div.sk-item::before, #sk-container-id-4 div.sk-parallel-item::before {content: \"\";position: absolute;border-left: 1px solid gray;box-sizing: border-box;top: 0;bottom: 0;left: 50%;z-index: -1;}#sk-container-id-4 div.sk-parallel-item {display: flex;flex-direction: column;z-index: 1;position: relative;background-color: white;}#sk-container-id-4 div.sk-parallel-item:first-child::after {align-self: flex-end;width: 50%;}#sk-container-id-4 div.sk-parallel-item:last-child::after {align-self: flex-start;width: 50%;}#sk-container-id-4 div.sk-parallel-item:only-child::after {width: 0;}#sk-container-id-4 div.sk-dashed-wrapped {border: 1px dashed gray;margin: 0 0.4em 0.5em 0.4em;box-sizing: border-box;padding-bottom: 0.4em;background-color: white;}#sk-container-id-4 div.sk-label label {font-family: monospace;font-weight: bold;display: inline-block;line-height: 1.2em;}#sk-container-id-4 div.sk-label-container {text-align: center;}#sk-container-id-4 div.sk-container {/* jupyter's `normalize.less` sets `[hidden] { display: none; }` but bootstrap.min.css set `[hidden] { display: none !important; }` so we also need the `!important` here to be able to override the default hidden behavior on the sphinx rendered scikit-learn.org. See: https://github.com/scikit-learn/scikit-learn/issues/21755 */display: inline-block !important;position: relative;}#sk-container-id-4 div.sk-text-repr-fallback {display: none;}</style><div id=\"sk-container-id-4\" class=\"sk-top-container\"><div class=\"sk-text-repr-fallback\"><pre>LogisticRegression(max_iter=1000, multi_class=&#x27;multinomial&#x27;, solver=&#x27;newton-cg&#x27;)</pre><b>In a Jupyter environment, please rerun this cell to show the HTML representation or trust the notebook. <br />On GitHub, the HTML representation is unable to render, please try loading this page with nbviewer.org.</b></div><div class=\"sk-container\" hidden><div class=\"sk-item\"><div class=\"sk-estimator sk-toggleable\"><input class=\"sk-toggleable__control sk-hidden--visually\" id=\"sk-estimator-id-4\" type=\"checkbox\" checked><label for=\"sk-estimator-id-4\" class=\"sk-toggleable__label sk-toggleable__label-arrow\">LogisticRegression</label><div class=\"sk-toggleable__content\"><pre>LogisticRegression(max_iter=1000, multi_class=&#x27;multinomial&#x27;, solver=&#x27;newton-cg&#x27;)</pre></div></div></div></div></div>"
      ],
      "text/plain": [
       "LogisticRegression(max_iter=1000, multi_class='multinomial', solver='newton-cg')"
      ]
     },
     "execution_count": 48,
     "metadata": {},
     "output_type": "execute_result"
    }
   ],
   "source": [
    "model = linear_model.LogisticRegression(multi_class='multinomial', solver='newton-cg', max_iter =1000)\n",
    "model.fit(X,Y)"
   ]
  },
  {
   "attachments": {},
   "cell_type": "markdown",
   "metadata": {},
   "source": [
    "## saving best model"
   ]
  },
  {
   "cell_type": "code",
   "execution_count": null,
   "metadata": {},
   "outputs": [],
   "source": [
    "joblib.dump(model, 'best_model.pkl')"
   ]
  },
  {
   "attachments": {},
   "cell_type": "markdown",
   "metadata": {},
   "source": [
    "## Model Prediction/Testing"
   ]
  },
  {
   "cell_type": "code",
   "execution_count": 44,
   "metadata": {},
   "outputs": [
    {
     "name": "stdout",
     "output_type": "stream",
     "text": [
      "[[1 20 7 ... 9 5 5]\n",
      " [0 17 5 ... 5 2 4]\n",
      " [1 25 5 ... 7 2 4]\n",
      " ...\n",
      " [0 18 7 ... 6 2 7]\n",
      " [0 23 6 ... 5 4 3]\n",
      " [1 18 5 ... 3 5 6]]\n",
      "['dependable' 'serious' 'serious' 'serious' 'responsible' 'serious'\n",
      " 'serious' 'serious' 'serious' 'serious' 'serious' 'responsible'\n",
      " 'responsible' 'serious' 'lively' 'extraverted' 'serious' 'serious'\n",
      " 'serious' 'extraverted' 'serious' 'extraverted' 'serious' 'extraverted'\n",
      " 'serious' 'serious' 'extraverted' 'extraverted' 'serious' 'responsible'\n",
      " 'serious' 'lively' 'extraverted' 'lively' 'serious' 'serious' 'serious'\n",
      " 'serious' 'extraverted' 'serious' 'responsible' 'responsible' 'serious'\n",
      " 'lively' 'serious' 'serious' 'responsible' 'dependable' 'serious'\n",
      " 'extraverted' 'serious' 'serious' 'serious' 'lively' 'extraverted'\n",
      " 'serious' 'extraverted' 'serious' 'serious' 'serious' 'responsible'\n",
      " 'serious' 'dependable' 'serious' 'serious' 'responsible' 'serious'\n",
      " 'serious' 'serious' 'serious' 'serious' 'serious' 'serious' 'serious'\n",
      " 'responsible' 'extraverted' 'serious' 'serious' 'serious' 'extraverted'\n",
      " 'serious' 'serious' 'extraverted' 'extraverted' 'serious' 'lively'\n",
      " 'serious' 'serious' 'serious' 'serious' 'serious' 'responsible' 'serious'\n",
      " 'serious' 'serious' 'serious' 'serious' 'extraverted' 'serious' 'serious'\n",
      " 'extraverted' 'extraverted' 'extraverted' 'extraverted' 'serious'\n",
      " 'serious' 'serious' 'extraverted' 'serious' 'serious' 'serious' 'serious'\n",
      " 'lively' 'serious' 'serious' 'extraverted' 'serious' 'serious' 'serious'\n",
      " 'extraverted' 'lively' 'lively' 'serious' 'serious' 'lively' 'serious'\n",
      " 'serious' 'serious' 'responsible' 'serious' 'serious' 'dependable'\n",
      " 'serious' 'serious' 'dependable' 'serious' 'responsible' 'extraverted'\n",
      " 'serious' 'serious' 'serious' 'serious' 'serious' 'serious' 'serious'\n",
      " 'extraverted' 'serious' 'serious' 'serious' 'extraverted' 'serious'\n",
      " 'lively' 'extraverted' 'extraverted' 'serious' 'responsible'\n",
      " 'extraverted' 'serious' 'extraverted' 'responsible' 'extraverted'\n",
      " 'serious' 'serious' 'serious' 'responsible' 'serious' 'extraverted'\n",
      " 'extraverted' 'extraverted' 'serious' 'serious' 'serious' 'responsible'\n",
      " 'responsible' 'serious' 'serious' 'lively' 'serious' 'serious' 'serious'\n",
      " 'lively' 'serious' 'extraverted' 'extraverted' 'extraverted' 'serious'\n",
      " 'serious' 'extraverted' 'extraverted' 'serious' 'serious' 'extraverted'\n",
      " 'serious' 'lively' 'serious' 'extraverted' 'serious' 'extraverted'\n",
      " 'responsible' 'serious' 'serious' 'serious' 'lively' 'serious' 'serious'\n",
      " 'serious' 'serious' 'extraverted' 'dependable' 'serious' 'extraverted'\n",
      " 'extraverted' 'extraverted' 'extraverted' 'lively' 'serious'\n",
      " 'extraverted' 'dependable' 'serious' 'dependable' 'extraverted'\n",
      " 'extraverted' 'extraverted' 'serious' 'serious' 'extraverted' 'serious'\n",
      " 'extraverted' 'extraverted' 'serious' 'extraverted' 'serious' 'serious'\n",
      " 'extraverted' 'extraverted' 'serious' 'serious' 'extraverted' 'serious'\n",
      " 'serious' 'serious' 'serious' 'extraverted' 'serious' 'serious'\n",
      " 'extraverted' 'serious' 'serious' 'responsible' 'extraverted' 'serious'\n",
      " 'extraverted' 'serious' 'extraverted' 'serious' 'responsible'\n",
      " 'responsible' 'extraverted' 'lively' 'serious' 'responsible'\n",
      " 'responsible' 'lively' 'serious' 'serious' 'extraverted' 'serious'\n",
      " 'serious' 'serious' 'serious' 'extraverted' 'serious' 'extraverted'\n",
      " 'serious' 'responsible' 'responsible' 'extraverted' 'extraverted'\n",
      " 'serious' 'serious' 'responsible' 'extraverted' 'serious' 'extraverted'\n",
      " 'lively' 'dependable' 'serious' 'extraverted' 'extraverted' 'extraverted'\n",
      " 'extraverted' 'extraverted' 'extraverted' 'serious' 'extraverted'\n",
      " 'extraverted' 'extraverted' 'extraverted' 'extraverted' 'extraverted'\n",
      " 'serious' 'serious' 'serious' 'serious' 'serious' 'serious' 'serious'\n",
      " 'serious' 'serious' 'serious' 'extraverted' 'serious' 'serious'\n",
      " 'extraverted' 'extraverted']\n"
     ]
    }
   ],
   "source": [
    "test_path = os.path.join('dataset/', 'test.csv')\n",
    "test_data = pd.read_csv(test_path)\n",
    "test_array = test_data.values\n",
    "for i in range (len(test_array)):\n",
    "    if test_array[i][0] == 'Male':\n",
    "        test_array[i][0] = 0\n",
    "    else: \n",
    "        test_array[i][0] = 1\n",
    "        \n",
    "df1 = pd.DataFrame(test_array)\n",
    "test_x = df1[[0,1,2,3,4,5,6]].values\n",
    "test_y = df1[7].values\n",
    "preds = model.predict(test_x)"
   ]
  },
  {
   "attachments": {},
   "cell_type": "markdown",
   "metadata": {},
   "source": [
    "## Model Accuracy and Confusion Matrix"
   ]
  },
  {
   "cell_type": "code",
   "execution_count": 45,
   "metadata": {},
   "outputs": [
    {
     "name": "stdout",
     "output_type": "stream",
     "text": [
      "Accuracy:  85.71428571428571\n",
      "Performance of the model on the data \n",
      "\n",
      "                precision    recall  f1-score   support\n",
      "\n",
      "  dependable       0.78      0.33      0.47        21\n",
      " extraverted       0.83      0.92      0.87        77\n",
      "      lively       0.95      0.75      0.84        24\n",
      " responsible       0.96      0.65      0.78        40\n",
      "     serious       0.85      0.97      0.91       153\n",
      "\n",
      "    accuracy                           0.86       315\n",
      "   macro avg       0.87      0.72      0.77       315\n",
      "weighted avg       0.86      0.86      0.85       315\n",
      "\n"
     ]
    }
   ],
   "source": [
    "print(\"Accuracy: \", metrics.accuracy_score(test_y, preds, normalize=True, sample_weight=None) * 100)\n",
    "print(\"Performance of the model on the data \\n\\n \", metrics.classification_report(test_y, preds))"
   ]
  },
  {
   "cell_type": "code",
   "execution_count": 46,
   "metadata": {},
   "outputs": [
    {
     "data": {
      "image/png": "[encoded data removed]",
      "text/plain": [
       "<Figure size 640x480 with 2 Axes>"
      ]
     },
     "metadata": {},
     "output_type": "display_data"
    }
   ],
   "source": [
    "metrics.ConfusionMatrixDisplay.from_predictions(test_y, preds, normalize=None)\n",
    "plt.xlabel('Predicted Label', fontsize=16)\n",
    "plt.ylabel('Personality Label', fontsize=16)\n",
    "plt.title('Confusion Matrix', fontsize=18)\n",
    "plt.savefig('result.png')\n"
   ]
  }
 ],
 "metadata": {
  "kernelspec": {
   "display_name": ".lib",
   "language": "python",
   "name": "python3"
  },
  "language_info": {
   "codemirror_mode": {
    "name": "ipython",
    "version": 3
   },
   "file_extension": ".py",
   "mimetype": "text/x-python",
   "name": "python",
   "nbconvert_exporter": "python",
   "pygments_lexer": "ipython3",
   "version": "3.9.5"
  },
  "orig_nbformat": 4
 },
 "nbformat": 4,
 "nbformat_minor": 2
}
